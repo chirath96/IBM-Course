{
 "cells": [
  {
   "cell_type": "markdown",
   "id": "297710a0-21f6-46b5-856e-777eff7b0224",
   "metadata": {},
   "source": [
    "My Jupyter Notebook on IBM Watson Studio"
   ]
  },
  {
   "cell_type": "markdown",
   "id": "e88cffa9-bbac-4c82-b92a-cb4a59736cdf",
   "metadata": {},
   "source": [
    "__Chirath__<br>\n",
    "I want to be a data scientist"
   ]
  },
  {
   "cell_type": "markdown",
   "id": "f3e5a657-074f-453d-b56a-af5ea49b8d80",
   "metadata": {},
   "source": [
    "_I want to be a data scientist because this is the future._ "
   ]
  },
  {
   "cell_type": "markdown",
   "id": "afb6329c-d1dd-490a-beab-54cbd48332e4",
   "metadata": {},
   "source": [
    "<h3>Cell 5 will output what is 1 + 1"
   ]
  },
  {
   "cell_type": "code",
   "execution_count": 2,
   "id": "3d890062-b00b-4c70-ac4c-d93c2e4db63e",
   "metadata": {},
   "outputs": [
    {
     "data": {
      "text/plain": [
       "2"
      ]
     },
     "execution_count": 2,
     "metadata": {},
     "output_type": "execute_result"
    }
   ],
   "source": [
    "1+1"
   ]
  },
  {
   "cell_type": "markdown",
   "id": "91733d6c-e0df-4a92-9e20-e6f4d15655be",
   "metadata": {},
   "source": [
    "<ol>\n",
    "    <li>\n",
    "        <a href=\"www.google.com\"> Google Link </a>\n",
    "    </li>\n",
    "    <li>\n",
    "        <div>Image of a cat</div>\n",
    "        <a href=\"www.google.com\"> Google Link </a>\n",
    "    </li>\n",
    "    \n",
    "    "
   ]
  },
  {
   "cell_type": "code",
   "execution_count": null,
   "id": "21f3ef98-7bb6-418a-aec6-dc8353ce73d2",
   "metadata": {},
   "outputs": [],
   "source": []
  }
 ],
 "metadata": {
  "kernelspec": {
   "display_name": "Python",
   "language": "python",
   "name": "conda-env-python-py"
  },
  "language_info": {
   "codemirror_mode": {
    "name": "ipython",
    "version": 3
   },
   "file_extension": ".py",
   "mimetype": "text/x-python",
   "name": "python",
   "nbconvert_exporter": "python",
   "pygments_lexer": "ipython3",
   "version": "3.7.12"
  }
 },
 "nbformat": 4,
 "nbformat_minor": 5
}
